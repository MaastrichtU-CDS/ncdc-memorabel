{
 "cells": [
  {
   "cell_type": "markdown",
   "id": "a0b29389",
   "metadata": {},
   "source": [
    "## NCDC Data Harmonization\n",
    "\n",
    "The NCDC project takes leverage of multiple sources of data by using a federated infrastructure. Being able to use these sources of data requires a data harmonization process to make the data interoperable.\n",
    "\n",
    "### OMOP CDM\n",
    "\n",
    "A clinical model defines a structure and relationships that allow representing different types of clinical data. In combination with standard vocabularies, it becomes possible to achieve a higher degree of interoperability, metadata description, and sustainability.\n",
    "\n",
    "The OMOP (Observational Medical Outcomes Partnership) CDM (Common Data Model) emerges in this context, presenting a clinical model that consistently grew to accommodate more types of clinical data. Its structure also includes standard vocabularies obtained from known sources, such as SNOMED.\n",
    "\n",
    "The NCDC project takes leverage of the OMOP CDM model to represent the data from each source and mantain the source data. Although OMOP represents a more complex data structure, the NCDC project mainly uses the following tables to represent the data (https://ohdsi.github.io/CommonDataModel/cdm60.html):\n",
    "- PERSON: “central identity management for all Persons in the database … uniquely identify each person or patient, and some demographic information.”\n",
    "- OBSERVATION: “clinical facts about a Person obtained in the context of examination, questioning or a procedure.”\n",
    "- MEASUREMENT: “structured values (numerical or categorical) obtained through systematic and standardized examination or testing of a Person or Person’s sample”\n",
    "- CONDITION_OCCURRENCE: \"suggesting the presence of a disease or medical condition stated as a diagnosis, a sign, or a symptom\""
   ]
  },
  {
   "cell_type": "code",
   "execution_count": null,
   "id": "0de028a8",
   "metadata": {},
   "outputs": [],
   "source": [
    "# Creating the database client using the \"psycopg2\" library\n",
    "import psycopg2\n",
    "\n",
    "# Build the URI to the DB following this specification:\n",
    "# postgresql://[user[:password]@][host][:port][/dbname]\n",
    "# If the information is provided by with environment variables\n",
    "# it's not necessary to complete the URI\n",
    "connection = psycopg2.connect(\"postgresql://\")\n",
    "db_client = connection.cursor()"
   ]
  },
  {
   "cell_type": "markdown",
   "id": "6b6bc4a5",
   "metadata": {},
   "source": [
    "### Data Extraction and Querying"
   ]
  },
  {
   "cell_type": "markdown",
   "id": "b29d6e0d",
   "metadata": {},
   "source": [
    "#### OMOP CDM\n",
    "\n",
    "Some examples on how to extract data and query the OMOP CDM are given below.\n",
    "To write a new query it may be useful to use both the NCDC mapping information and the OMOP CDM v6.0 definition (https://ohdsi.github.io/CommonDataModel/cdm60.html)."
   ]
  },
  {
   "cell_type": "code",
   "execution_count": null,
   "id": "b24e032c",
   "metadata": {},
   "outputs": [],
   "source": [
    "# Extracting data to a pandas dataframe\n",
    "#\n",
    "# Reading the table 'Person' to a pandas dataframe and getting the average\n",
    "# year of birth\n",
    "df = pd.read_sql_query('SELECT * FROM PERSON', con=connection)\n",
    "print(df['year_of_birth'].mean())\n",
    "\n",
    "# Another use case would be to already use the SQL query to make a sub-selection\n",
    "# of the data to retrieve. For example, extracting all observation for persons \n",
    "# with more than 75 years and a negative dementia diagnosis\n",
    "df = pd.read_sql_query(\"\"\"SELECT * FROM OBSERVATION AS o WHERE o.person_id IN \n",
    "    (SELECT DISTINCT p.person_id FROM PERSON AS p JOIN OBSERVATION as o ON \n",
    "    p.person_id = o.person_id WHERE o.observation_concept_id = '4182210' AND \n",
    "    (date_part('year', now()) - p.year_of_birth) > 75);\"\"\", con=connection)"
   ]
  },
  {
   "cell_type": "code",
   "execution_count": null,
   "id": "94a70bf2",
   "metadata": {},
   "outputs": [],
   "source": [
    "# Querying the database and retrieving the results\n",
    "#\n",
    "# Select the max, min, and average year of birth for all persons in the database by gender\n",
    "# Gender concept id:\n",
    "#   - 8532: Female\n",
    "#   - 8551: Unknown\n",
    "#   - 8507: Male\n",
    "sql_statement = \"\"\"SELECT gender_concept_id, COUNT(person_id), \n",
    "    MAX(year_of_birth), MIN(year_of_birth), AVG(year_of_birth) FROM \n",
    "    PERSON GROUP BY gender_concept_id\"\"\"\n",
    "db_client.execute(sql_statement)\n",
    "result = db_client.fetchall()\n",
    "print(result)\n",
    "\n",
    "# Selecting the average age for all persons with a dementia diagnosis\n",
    "# Condition with concept id 4182210 from SNOMED \"Dementia\"\n",
    "sql_statement = \"\"\"SELECT AVG(date_part('year', now()) - p.year_of_birth) \n",
    "    FROM PERSON AS p INNER JOIN CONDITION_OCCURRENCE AS c ON p.person_id = c.person_id \n",
    "    WHERE c.condition_concept_id = '4182210'\"\"\"\n",
    "db_client.execute(sql_statement)\n",
    "result = db_client.fetchone()\n",
    "print(result)"
   ]
  },
  {
   "cell_type": "markdown",
   "id": "83bf8d7b",
   "metadata": {},
   "source": [
    "#### Simplified Table\n",
    "\n",
    "One of the drawbacks of using a clinical model can be the higher complexity in its model definition. This is the case with the OMOP CDM, it requires more knowledge about its schema and the querying can be more difficult, especially when taking the first steps. Although we recommend using the OMOP CDM, it's also possible to use a simplified table that mimics most of the representations used from the source data, a plane table with an entry by visit."
   ]
  },
  {
   "cell_type": "code",
   "execution_count": null,
   "id": "448da07e",
   "metadata": {},
   "outputs": [],
   "source": [
    "# Extracting data to a pandas dataframe\n",
    "#\n",
    "# Reading the table 'NCDC' to a pandas dataframe and getting the average\n",
    "# year of birth\n",
    "df = pd.read_sql_query('SELECT * FROM NCDC', con=connection)\n",
    "print(df.drop_duplicates(subset='id')['birth_year'].mean())\n",
    "\n",
    "# Extracting all observation for persons with more than 75 years and a \n",
    "# negative dementia diagnosis\n",
    "df = pd.read_sql_query(\"\"\"SELECT * FROM NCDC2 WHERE dementia_diagnosis IS FALSE AND \n",
    "    (date_part('year', now()) - birth_year) > 75\"\"\", con=connection)"
   ]
  },
  {
   "cell_type": "code",
   "execution_count": null,
   "id": "d2b918a1",
   "metadata": {},
   "outputs": [],
   "source": [
    "# Select the max, min, and average year of birth for all persons in the database by gender\n",
    "#\n",
    "# NCDC coding:\n",
    "#  - 0: Male\n",
    "#  - 1: Female\n",
    "#  - NULL: Unknown\n",
    "sql_statement = \"\"\"SELECT t.sex, COUNT(t.id), \n",
    "    MAX(t.birth_year), MIN(t.birth_year), AVG(t.birth_year) FROM \n",
    "    (SELECT DISTINCT id, sex, birth_year FROM ncdc) AS t\n",
    "    GROUP BY t.sex\"\"\"\n",
    "db_client.execute(sql_statement)\n",
    "result = db_client.fetchall()\n",
    "print(result)\n",
    "\n",
    "# Selecting the average age for all persons with a dementia diagnosis\n",
    "#\n",
    "# NCDC variable for dementia: \"dementia_diagnosis\"\n",
    "# NCDC coding: TRUE ('1'), FALSE ('0')\n",
    "sql_statement = \"\"\"SELECT AVG(date_part('year', now()) - birth_year) \n",
    "    FROM ncdc WHERE id IN (SELECT DISTINCT id FROM ncdc \n",
    "    WHERE dementia_diagnosis IS TRUE)\"\"\"\n",
    "# Alternative: dementia_diagnosis = '1'\n",
    "db_client.execute(sql_statement)\n",
    "result = db_client.fetchone()\n",
    "print(result)"
   ]
  }
 ],
 "metadata": {
  "kernelspec": {
   "display_name": "Python 3 (ipykernel)",
   "language": "python",
   "name": "python3"
  },
  "language_info": {
   "codemirror_mode": {
    "name": "ipython",
    "version": 3
   },
   "file_extension": ".py",
   "mimetype": "text/x-python",
   "name": "python",
   "nbconvert_exporter": "python",
   "pygments_lexer": "ipython3",
   "version": "3.8.5"
  }
 },
 "nbformat": 4,
 "nbformat_minor": 5
}
