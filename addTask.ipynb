{
 "cells": [
  {
   "cell_type": "markdown",
   "metadata": {},
   "source": [
    "# Memorabel Personal Health Train Demo"
   ]
  },
  {
   "cell_type": "markdown",
   "metadata": {},
   "source": [
    "### Settings"
   ]
  },
  {
   "cell_type": "code",
   "execution_count": 169,
   "metadata": {},
   "outputs": [],
   "source": [
    "from vantage6.client import Client\n",
    "from pathlib import Path\n",
    "import time\n",
    "import requests\n",
    "import json\n",
    "import pickle"
   ]
  },
  {
   "cell_type": "code",
   "execution_count": 170,
   "metadata": {},
   "outputs": [],
   "source": [
    "url_base = \"https://dev.v6.personalhealthtrain.net\"\n",
    "api_path = \"/api\"\n",
    "url = url_base + api_path\n",
    "\n",
    "username = \"inigo\"\n",
    "password = \"WelcomeToVantage6\""
   ]
  },
  {
   "cell_type": "markdown",
   "metadata": {},
   "source": [
    "### Authentication"
   ]
  },
  {
   "cell_type": "code",
   "execution_count": 171,
   "metadata": {},
   "outputs": [
    {
     "name": "stdout",
     "output_type": "stream",
     "text": [
      "Attempt login to Vantage6 API\n"
     ]
    }
   ],
   "source": [
    "print(\"Attempt login to Vantage6 API\")\n",
    "client = Client(url_base, 443, \"/api\")"
   ]
  },
  {
   "cell_type": "code",
   "execution_count": 172,
   "metadata": {},
   "outputs": [],
   "source": [
    "client.authenticate(username, password)"
   ]
  },
  {
   "cell_type": "code",
   "execution_count": 173,
   "metadata": {},
   "outputs": [],
   "source": [
    "client.setup_encryption(None)"
   ]
  },
  {
   "cell_type": "code",
   "execution_count": 190,
   "metadata": {},
   "outputs": [],
   "source": [
    "json_data = {\n",
    "  \"username\": username,\n",
    "  \"password\": password\n",
    "}\n",
    "\n",
    "# make an http-call to obtain a JWT-token\n",
    "response = requests.post(\n",
    "  f\"{url_base}{api_path}/token/user\", \n",
    "  json=json_data\n",
    ")\n",
    "\n",
    "# extract JWT access token\n",
    "data = response.json()\n",
    "access_token = data[\"access_token\"]\n",
    "refresh_token = data[\"refresh_token\"]"
   ]
  },
  {
   "cell_type": "markdown",
   "metadata": {},
   "source": [
    "### Submit task"
   ]
  },
  {
   "cell_type": "code",
   "execution_count": 68,
   "metadata": {},
   "outputs": [],
   "source": [
    "input_ = {\n",
    "    \"method\":\"summary\", \n",
    "    \"args\": [\n",
    "        {\n",
    "            \"Age\":\"Int64\",\n",
    "            \"Sex\":\"category\", \n",
    "            \"MMSE Total Score\":\"Int64\", \n",
    "            \"CRP\":\"Int64\", \n",
    "            \"Amyloid Beta\":\"Int64\", \n",
    "            \"Total Tau\":\"Int64\", \n",
    "            \"ICV\": \"Int64\",\n",
    "            \"WMH Fazekas score\": \"Int64\"}, \n",
    "        \".\",\n",
    "        \";\"], \n",
    "    \"kwargs\": {}\n",
    "}"
   ]
  },
  {
   "cell_type": "code",
   "execution_count": 76,
   "metadata": {},
   "outputs": [],
   "source": [
    "task = client.post_task(\n",
    "    name=\"testing\",\n",
    "    image=\"harbor.vantage6.ai/algorithms/summary\",\n",
    "    collaboration_id=2,\n",
    "    input_= input_,\n",
    "    organization_ids=[2]\n",
    ")"
   ]
  },
  {
   "cell_type": "code",
   "execution_count": 187,
   "metadata": {},
   "outputs": [],
   "source": [
    "input_ = {}\n",
    "task = client.post_task(\n",
    "    name=\"testing\",\n",
    "    image=\"docker.io/ibermejo/sha256_test@sha256:a512144a9741d5495ac2012b859dabeb04a9829e06d41b151b709e905e661613\",\n",
    "    collaboration_id=2,\n",
    "    input_= input_,\n",
    "    organization_ids=[3]\n",
    ")"
   ]
  },
  {
   "cell_type": "markdown",
   "metadata": {},
   "source": [
    "### Read results"
   ]
  },
  {
   "cell_type": "code",
   "execution_count": 188,
   "metadata": {},
   "outputs": [],
   "source": [
    "res = client.get_results(task_id=task[\"id\"])"
   ]
  },
  {
   "cell_type": "code",
   "execution_count": null,
   "metadata": {},
   "outputs": [],
   "source": []
  },
  {
   "cell_type": "code",
   "execution_count": 189,
   "metadata": {},
   "outputs": [
    {
     "name": "stdout",
     "output_type": "stream",
     "text": [
      "{'started_at': '2020-09-09T09:34:06.590409+00:00', 'organization': {'id': 3, 'link': '/api/organization/3', 'methods': ['GET', 'PATCH']}, 'log': None, 'assigned_at': '2020-09-09T09:34:06.372416+00:00', 'id': 65, 'task': {'id': 38, 'link': '/api/task/38', 'methods': ['GET', 'DELETE']}, 'input': b'\\x80\\x03}q\\x00.', 'finished_at': None, 'result': None}\n"
     ]
    }
   ],
   "source": [
    "print(res[0])"
   ]
  },
  {
   "cell_type": "code",
   "execution_count": 45,
   "metadata": {},
   "outputs": [],
   "source": [
    "from time import sleep\n",
    "\n",
    "# HTTP headers for authorization\n",
    "headers = {'Authorization': 'Bearer ' + access_token}\n",
    "\n",
    "task_id = task.get(\"id\")\n",
    "task_info = requests.get(\n",
    "  f\"{url_base}{api_path}/task/{task_id}\", \n",
    "  headers=headers\n",
    ")"
   ]
  },
  {
   "cell_type": "code",
   "execution_count": 229,
   "metadata": {},
   "outputs": [
    {
     "name": "stdout",
     "output_type": "stream",
     "text": [
      "{'started_at': '2020-09-09T14:22:50.428064+00:00', 'organization': {'id': 3, 'link': '/api/organization/3', 'methods': ['GET', 'PATCH']}, 'log': \"-----------------------------------------\\n  Welcome to the Vantage Infrastructure\\n-----------------------------------------\\nUsing '/mnt/data/database.csv' as database \\nLoading data from '/mnt/data/task-000000082/input' \\nLoading token from '/mnt/data/task-000000082/token' \\nDispatching ... \\nRunning a (mere) regular container. \\nCalling RPC_node_beta \\nWriting data to '/mnt/data/task-000000082/output' \\n \\n[DONE!] \\n\", 'assigned_at': '2020-09-09T13:42:40.688320+00:00', 'id': 82, 'task': {'id': 44, 'link': '/api/task/44', 'methods': ['GET', 'DELETE']}, 'input': 'WAoAAAADAAMGAQADBQAAAAAGQ1AxMjUyAAACEwAAAAUAAAAKAAAAAQAAAAAAAAAKAAAAAQAAAAAAAAAQAAAAAQAEAAkAAAAJbm9kZV9iZXRhAAACEwAAAAAAAAQCAAAAAQAEAAkAAAAFbmFtZXMAAAAQAAAAAAAAAP4AAAITAAAAAQAAAhMAAAAFAAADBgAABAIAAAABAAQACQAAAAVjbGFzcwAAABAAAAABAAQACQAAAAdmb3JtdWxhAAAEAgAAAAEABAAJAAAADC5FbnZpcm9ubWVudAAAAP0AAAD+AAAAAQAEAAkAAAABfgAAAAIAAAABAAQACQAAAAdoZGxjaG9sAAAAAgAAAAYAAAABAAQACQAAAAErAAAAAgAAAAYAAAb/AAAAAgAAAAEABAAJAAAAA2JtaQAAAAIAAAABAAQACQAAAANzZXgAAAD+AAAAAgAAAAEABAAJAAAAA2FnZQAAAP4AAAD+AAAAEAAAAAEABAAJAAAACGdhdXNzaWFuAAAADgAAAAE/8AAAAAAAAAAAAA4AAAABPkV5juIwjDoAAAAOAAAAAUA5AAAAAAAAAAAEAgAAAf8AAAAQAAAABQAEAAkAAAAHZm9ybXVsYQAEAAkAAAAGZmFtaWx5AAQACQAAAARpdGVyAAQACQAAAAN0b2wABAAJAAAABW1heGl0AAAA/gAABAIAAAH/AAAAEAAAAAEABAAJAAAABm1hc3RlcgAAAP4AAAQCAAAB/wAAABAAAAAFAAQACQAAAAZtYXN0ZXIABAAJAAAABWRlYnVnAAQACQAAAAZtZXRob2QABAAJAAAABGFyZ3MABAAJAAAABmt3YXJncwAAAP4=', 'finished_at': '2020-09-09T14:22:53.579203+00:00', 'result': 'WAoAAAADAAQAAgADBQAAAAAFVVRGLTgAAAITAAAAAQAAAhMAAAAHAAACDgAAABBAj0AAAAAAAEDYohCoY7VLQHugAAAAAABA7MbgAAAAAEDYohCoY7VLQSPLWXji6EhAxgqUltwRmEE2tebdGg+VQHugAAAAAABAxgqUltwRmEB7oAAAAAAAQNnRQAAAAABA7MbgAAAAAEE2tebdGg+VQNnRQAAAAABBStmZgAAAAAAABAIAAAABAAQACQAAAANkaW0AAAANAAAAAgAAAAQAAAAEAAAEAgAAAAEABAAJAAAACGRpbW5hbWVzAAAAEwAAAAIAAAAQAAAABAAEAAkAAAALKEludGVyY2VwdCkABAAJAAAAA2JtaQAEAAkAAAAHc2V4bWFsZQAEAAkAAAADYWdlAAAAEAAAAAQABAAJAAAACyhJbnRlcmNlcHQpAAQACQAAAANibWkABAAJAAAAB3NleG1hbGUABAAJAAAAA2FnZQAAAP4AAAIOAAAABECXWOuFHrhRQOIp9whrKXxAgdkzMzMzNED1diOFHrhSAAAEAgAAAf8AAAANAAAAAgAAAAQAAAABAAAEAgAAAv8AAAATAAAAAgAAABAAAAAEAAQACQAAAAsoSW50ZXJjZXB0KQAEAAkAAAADYm1pAAQACQAAAAdzZXhtYWxlAAQACQAAAANhZ2UAAAD+AAAA/gAAAA4AAAABAAAAAAAAAAAAAAANAAAAAQAAA+gAAAANAAAAAQAAAAQAAAAOAAAAAUCXWOuFHrhSAAAADgAAAAFAj0AAAAAAAAAABAIAAAABAAQACQAAAAVuYW1lcwAAABAAAAAHAAQACQAAAAJ2MQAEAAkAAAACdjIABAAJAAAACmRpc3BlcnNpb24ABAAJAAAABG5vYnMABAAJAAAABW52YXJzAAQACQAAAAN3dDEABAAJAAAAA3d0MgAAAP4AAAQCAAAD/wAAABAAAAABAAQACQAAAAZyZXN1bHQAAAD+'}\n"
     ]
    }
   ],
   "source": [
    "# HTTP headers for authorization\n",
    "headers = {'Authorization': 'Bearer ' + access_token}\n",
    "\n",
    "result = requests.get(\n",
    "  f\"{url_base}{api_path}/result/82\", \n",
    "  headers=headers\n",
    ")\n",
    "\n",
    "print(result.json())"
   ]
  },
  {
   "cell_type": "code",
   "execution_count": 197,
   "metadata": {},
   "outputs": [],
   "source": [
    "enc_result = result.json()['result']"
   ]
  },
  {
   "cell_type": "code",
   "execution_count": 211,
   "metadata": {},
   "outputs": [
    {
     "data": {
      "text/plain": [
       "<Response [200]>"
      ]
     },
     "execution_count": 211,
     "metadata": {},
     "output_type": "execute_result"
    }
   ],
   "source": [
    "# HTTP headers for authorization\n",
    "headers = {'Authorization': 'Bearer ' + access_token}\n",
    "\n",
    "#while not task.get(\"complete\"):\n",
    "#requests.delete(\n",
    "#  f\"{url_base}{api_path}/collaboration/2\",\n",
    "#  headers=headers\n",
    "#)\n",
    "  #sleep(1)"
   ]
  },
  {
   "cell_type": "code",
   "execution_count": 54,
   "metadata": {},
   "outputs": [
    {
     "name": "stdout",
     "output_type": "stream",
     "text": [
      "<Response [500]>\n"
     ]
    }
   ],
   "source": [
    "print(task_info)"
   ]
  },
  {
   "cell_type": "code",
   "execution_count": 195,
   "metadata": {},
   "outputs": [],
   "source": [
    "from vantage6.client.encryption import CryptorBase, RSACryptor, DummyCryptor"
   ]
  },
  {
   "cell_type": "code",
   "execution_count": 196,
   "metadata": {},
   "outputs": [],
   "source": [
    "cryptor = DummyCryptor()"
   ]
  },
  {
   "cell_type": "code",
   "execution_count": 199,
   "metadata": {},
   "outputs": [
    {
     "ename": "UnpicklingError",
     "evalue": "invalid load key, '\\x00'.",
     "output_type": "error",
     "traceback": [
      "\u001b[1;31m---------------------------------------------------------------------------\u001b[0m",
      "\u001b[1;31mUnpicklingError\u001b[0m                           Traceback (most recent call last)",
      "\u001b[1;32m<ipython-input-199-a2a83138de29>\u001b[0m in \u001b[0;36m<module>\u001b[1;34m\u001b[0m\n\u001b[1;32m----> 1\u001b[1;33m \u001b[0mprint\u001b[0m\u001b[1;33m(\u001b[0m\u001b[0mpickle\u001b[0m\u001b[1;33m.\u001b[0m\u001b[0mloads\u001b[0m\u001b[1;33m(\u001b[0m\u001b[0mcryptor\u001b[0m\u001b[1;33m.\u001b[0m\u001b[0mdecrypt_str_to_bytes\u001b[0m\u001b[1;33m(\u001b[0m\u001b[0menc_result\u001b[0m\u001b[1;33m)\u001b[0m\u001b[1;33m)\u001b[0m\u001b[1;33m)\u001b[0m\u001b[1;33m\u001b[0m\u001b[1;33m\u001b[0m\u001b[0m\n\u001b[0m",
      "\u001b[1;31mUnpicklingError\u001b[0m: invalid load key, '\\x00'."
     ]
    }
   ],
   "source": [
    "print(pickle.loads(cryptor.decrypt_str_to_bytes(enc_result)))"
   ]
  },
  {
   "cell_type": "code",
   "execution_count": null,
   "metadata": {},
   "outputs": [],
   "source": []
  }
 ],
 "metadata": {
  "kernelspec": {
   "display_name": "Python 3",
   "language": "python",
   "name": "python3"
  },
  "language_info": {
   "codemirror_mode": {
    "name": "ipython",
    "version": 3
   },
   "file_extension": ".py",
   "mimetype": "text/x-python",
   "name": "python",
   "nbconvert_exporter": "python",
   "pygments_lexer": "ipython3",
   "version": "3.7.4"
  }
 },
 "nbformat": 4,
 "nbformat_minor": 2
}
