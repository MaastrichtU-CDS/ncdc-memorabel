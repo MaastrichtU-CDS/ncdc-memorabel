{
 "cells": [
  {
   "cell_type": "markdown",
   "metadata": {},
   "source": [
    "# Memorabel Personal Health Train Demo"
   ]
  },
  {
   "cell_type": "markdown",
   "metadata": {},
   "source": [
    "### Settings"
   ]
  },
  {
   "cell_type": "code",
   "execution_count": 1,
   "metadata": {},
   "outputs": [],
   "source": [
    "from vantage6.client import Client\n",
    "from pathlib import Path\n",
    "import time\n",
    "import requests\n",
    "import json"
   ]
  },
  {
   "cell_type": "markdown",
   "metadata": {},
   "source": [
    "### Authentication"
   ]
  },
  {
   "cell_type": "code",
   "execution_count": 9,
   "metadata": {},
   "outputs": [
    {
     "name": "stdout",
     "output_type": "stream",
     "text": [
      "Attempt login to Vantage6 API\n"
     ]
    }
   ],
   "source": [
    "print(\"Attempt login to Vantage6 API\")\n",
    "client = Client(\"https://dev.v6.personalhealthtrain.net\", 443, \"/api\")"
   ]
  },
  {
   "cell_type": "code",
   "execution_count": 10,
   "metadata": {},
   "outputs": [],
   "source": [
    "client.authenticate(\"inigo\", \"WelcomeToVantage6\")"
   ]
  },
  {
   "cell_type": "code",
   "execution_count": 11,
   "metadata": {},
   "outputs": [],
   "source": [
    "client.setup_encryption(None)"
   ]
  },
  {
   "cell_type": "code",
   "execution_count": 4,
   "metadata": {},
   "outputs": [],
   "source": [
    "input_ = {\n",
    "    \"master\": \"true\",\n",
    "    \"method\":\"master\", \n",
    "    \"args\": [\n",
    "        {\n",
    "            \"ID\":\"Int64\",\n",
    "            \"Age\":\"Int64\", \n",
    "            \"Clinical.T.Stage\":\"category\", \n",
    "            \"Clinical.N.Stage\":\"category\",\n",
    "            \"Clinical.M.Stage\": \"category\",\n",
    "            \"Overall.Ajcc.Stage\": \"category\",\n",
    "            \"Histology\": \"category\",\n",
    "            \"Sex\": \"category\",\n",
    "            \"Survival.Time.Days\": \"Int64\",\n",
    "            \"deadstatus.event\": \"Int64\"}, \n",
    "        \".\",\n",
    "        \";\"], \n",
    "    \"kwargs\": {}\n",
    "}\n",
    "\n",
    "print(\"Requesting to execute summary algorithm\")\n",
    "task = client.post_task(\n",
    "    name=\"testing\",\n",
    "    image=\"harbor.vantage6.ai/algorithms/summary\",\n",
    "    collaboration_id=2,\n",
    "    input_= input_,\n",
    "    organization_ids=[3]\n",
    ")"
   ]
  },
  {
   "cell_type": "markdown",
   "metadata": {},
   "source": [
    "### Submit task"
   ]
  },
  {
   "cell_type": "code",
   "execution_count": 18,
   "metadata": {},
   "outputs": [
    {
     "name": "stdout",
     "output_type": "stream",
     "text": [
      "227\n"
     ]
    }
   ],
   "source": [
    "# task specification\n",
    "task_spec = {\n",
    "  \"description\": \"first computation task\",\n",
    "  \"image\": \"stutinayak/pht_dementia_mock\",\n",
    "  \"input\": \"some input\",\n",
    "  \"name\": \"human readable\",\n",
    "  \"collaboration_id\":8\n",
    "}\n",
    "\n",
    "task = requests.post(\n",
    "  f\"{url}{api_path}/task\", \n",
    "  headers=headers,\n",
    "  json=task_spec\n",
    ")\n",
    "\n",
    "task_details = task.json()\n",
    "task_id = task_details[\"id\"]\n",
    "\n",
    "print(task_id)"
   ]
  },
  {
   "cell_type": "markdown",
   "metadata": {},
   "source": [
    "### Read results"
   ]
  },
  {
   "cell_type": "code",
   "execution_count": 19,
   "metadata": {},
   "outputs": [
    {
     "name": "stdout",
     "output_type": "stream",
     "text": [
      "Task not run at node 96\n",
      "{\"Average age\": 56.42857142857143} at node 97\n"
     ]
    }
   ],
   "source": [
    "#Get Results from Task\n",
    "task_info = requests.get(\n",
    "    url + f\"/task/{task_id}\",\n",
    "    headers=headers)\n",
    "\n",
    "task_results = task_info.json()[\"results\"]\n",
    "\n",
    "for result in task_results:\n",
    "    output = requests.get(\n",
    "      url_base + result,\n",
    "      headers=headers).json()\n",
    "    # print(output)\n",
    "    if output[\"result\"] != None:\n",
    "        print(output[\"result\"] + \" at node \" + str(output[\"node\"]) )\n",
    "    else:\n",
    "        print (\"Task not run at node \" + str(output[\"node\"]))"
   ]
  },
  {
   "cell_type": "code",
   "execution_count": 11,
   "metadata": {},
   "outputs": [],
   "source": [
    "task_id = 1\n",
    "task_info = requests.get(\n",
    "    url + f\"/task/{task_id}\",\n",
    "    headers=headers)"
   ]
  },
  {
   "cell_type": "code",
   "execution_count": 12,
   "metadata": {},
   "outputs": [
    {
     "name": "stdout",
     "output_type": "stream",
     "text": [
      "{'msg': 'task id={} is not found'}\n"
     ]
    }
   ],
   "source": [
    "print(task_info.json())"
   ]
  },
  {
   "cell_type": "code",
   "execution_count": 10,
   "metadata": {},
   "outputs": [],
   "source": [
    "task_info = requests.delete(\n",
    "    url + f\"/task/{task_id}\",\n",
    "    headers=headers)"
   ]
  },
  {
   "cell_type": "code",
   "execution_count": null,
   "metadata": {},
   "outputs": [],
   "source": [
    "from vantage6.client import Client\n",
    "from pathlib import Path\n",
    "import time"
   ]
  },
  {
   "cell_type": "code",
   "execution_count": null,
   "metadata": {},
   "outputs": [],
   "source": [
    "print(\"Attempt login to Vantage6 API\")\n",
    "client = Client(\"http://localhost\", 5000, \"/api\")\n",
    "client.authenticate(\"johan\", \"1234\")\n",
    "\n",
    "client.setup_encryption(None)\n",
    "\n",
    "input_ = {\n",
    "    \"master\": \"true\",\n",
    "    \"method\":\"master\", \n",
    "    \"args\": [\n",
    "        {\n",
    "            \"ID\":\"Int64\",\n",
    "            \"Age\":\"Int64\", \n",
    "            \"Clinical.T.Stage\":\"category\", \n",
    "            \"Clinical.N.Stage\":\"category\",\n",
    "            \"Clinical.M.Stage\": \"category\",\n",
    "            \"Overall.Ajcc.Stage\": \"category\",\n",
    "            \"Histology\": \"category\",\n",
    "            \"Sex\": \"category\",\n",
    "            \"Survival.Time.Days\": \"Int64\",\n",
    "            \"deadstatus.event\": \"Int64\"}, \n",
    "        \".\",\n",
    "        \";\"], \n",
    "    \"kwargs\": {}\n",
    "}\n",
    "\n",
    "print(\"Requesting to execute summary algorithm\")\n",
    "task = client.post_task(\n",
    "    name=\"testing\",\n",
    "    image=\"harbor.vantage6.ai/algorithms/summary\",\n",
    "    collaboration_id=1,\n",
    "    input_= input_,\n",
    "    organization_ids=[1, 2]\n",
    ")\n",
    "\n",
    "print(\"Wait and fetch results\")\n",
    "res = client.get_results(task_id=task.get(\"id\"))\n",
    "attempts=1\n",
    "while((res[0][\"result\"] == None) and attempts < 7):\n",
    "    print(\"waiting...\")\n",
    "    time.sleep(5)\n",
    "    res = client.get_results(task_id=task.get(\"id\"))\n",
    "    attempts += 1\n",
    "print(res[0][\"result\"])"
   ]
  }
 ],
 "metadata": {
  "kernelspec": {
   "display_name": "Python 3",
   "language": "python",
   "name": "python3"
  },
  "language_info": {
   "codemirror_mode": {
    "name": "ipython",
    "version": 3
   },
   "file_extension": ".py",
   "mimetype": "text/x-python",
   "name": "python",
   "nbconvert_exporter": "python",
   "pygments_lexer": "ipython3",
   "version": "3.7.7"
  }
 },
 "nbformat": 4,
 "nbformat_minor": 2
}
