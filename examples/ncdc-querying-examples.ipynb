{
 "cells": [
  {
   "cell_type": "markdown",
   "source": [
    "## NCDC Data Harmonization\n",
    "\n",
    "The NCDC project takes leverage of multiple sources of data by using a federated infrastructure. Being able to use these sources of data requires a data harmonization process to make the data interoperable.\n",
    "\n",
    "### OMOP CDM\n",
    "\n",
    "A clinical model defines a structure and relationships that allow representing different types of clinical data. In combination with standard vocabularies, it becomes possible to achieve a higher degree of interoperability, metadata description, and sustainability.\n",
    "\n",
    "The OMOP (Observational Medical Outcomes Partnership) CDM (Common Data Model) emerges in this context, presenting a clinical model that consistently grew to accommodate more types of clinical data. Its structure also includes standard vocabularies obtained from known sources, such as SNOMED.\n",
    "\n",
    "The NCDC project takes leverage of the OMOP CDM model to represent the data from each source and mantain the source data. Although OMOP represents a more complex data structure, the NCDC project mainly uses the following tables to represent the data (https://ohdsi.github.io/CommonDataModel/cdm60.html):\n",
    "- PERSON: “central identity management for all Persons in the database … uniquely identify each person or patient, and some demographic information.”\n",
    "- OBSERVATION: “clinical facts about a Person obtained in the context of examination, questioning or a procedure.”\n",
    "- MEASUREMENT: “structured values (numerical or categorical) obtained through systematic and standardized examination or testing of a Person or Person’s sample”\n",
    "- CONDITION_OCCURRENCE: \"suggesting the presence of a disease or medical condition stated as a diagnosis, a sign, or a symptom\""
   ],
   "metadata": {}
  },
  {
   "cell_type": "code",
   "execution_count": null,
   "source": [
    "# Creating the database client using the \"psycopg2\" library\n",
    "import psycopg2\n",
    "\n",
    "# Build the URI to the DB following this specification:\n",
    "# postgresql://[user[:password]@][host][:port][/dbname]\n",
    "connection = psycopg2.connect(\"postgresql://\")\n",
    "db_client = connection.cursor()"
   ],
   "outputs": [],
   "metadata": {}
  },
  {
   "cell_type": "markdown",
   "source": [
    "#### Querying the OMOP CDM\n",
    "\n",
    "Some examples on how to query the OMOP CDM are given below.\n",
    "To write a new query it may be useful to use both the NCDC mapping information and the OMOP CDM v6.0 definition (https://ohdsi.github.io/CommonDataModel/cdm60.html)."
   ],
   "metadata": {}
  },
  {
   "cell_type": "code",
   "execution_count": null,
   "source": [
    "# Select the max, min, and average year of birth for all persons in the database by gender\n",
    "#\n",
    "# Gender concept id:\n",
    "#   - 8532: Female\n",
    "#   - 8551: Unknown\n",
    "#   - 8507: Male\n",
    "sql_statement = \"\"\"SELECT gender_concept_id, COUNT(person_id), \n",
    "MAX(year_of_birth), MIN(year_of_birth), AVG(year_of_birth) FROM \n",
    "PERSON GROUP BY gender_concept_id\"\"\"\n",
    "db_client.execute(sql_statement)\n",
    "result = db_client.fetchall()\n",
    "print(result)\n",
    "\n",
    "# Selecting the average age for all persons with a dementia diagnosis\n",
    "#\n",
    "# Condition with concept id 4182210 from SNOMED \"Dementia\"\n",
    "sql_statement = \"\"\"SELECT AVG(date_part('year', now()) - p.year_of_birth) \n",
    "FROM PERSON AS p INNER JOIN CONDITION_OCCURRENCE AS c ON p.person_id = c.person_id \n",
    "WHERE c.condition_concept_id = '4182210'\n",
    "\"\"\"\n",
    "db_client.execute(sql_statement)\n",
    "result = db_client.fetchone()\n",
    "print(result)"
   ],
   "outputs": [],
   "metadata": {}
  },
  {
   "cell_type": "markdown",
   "source": [
    "### Simplified Table\n",
    "\n",
    "One of the drawbacks of using a clinical model can be the higher complexity in its model definition. This is the case with the OMOP CDM, it requires more knowledge about its schema and the querying can be more difficult, especially when taking the first steps. Although we recommend using the OMOP CDM, it's also possible to use a simplified table that mimics most of the representations used from the source data, a plane table with an entry by visit."
   ],
   "metadata": {}
  },
  {
   "cell_type": "code",
   "execution_count": null,
   "source": [
    "# Select the max, min, and average year of birth for all persons in the database by gender\n",
    "#\n",
    "# NCDC coding:\n",
    "#  - 0: Male\n",
    "#  - 1: Female\n",
    "#  - NULL: Unknown\n",
    "sql_statement = \"\"\"SELECT sex, COUNT(id), \n",
    "MAX(birth_year), MIN(birth_year), AVG(birth_year) FROM ncdc \n",
    "GROUP BY sex\n",
    "\"\"\"\n",
    "db_client.execute(sql_statement)\n",
    "result = db_client.fetchall()\n",
    "print(result)\n",
    "\n",
    "# Selecting the average age for all persons with a dementia diagnosis\n",
    "#\n",
    "# NCDC variable for dementia: \"dementia_diagnosis\"\n",
    "# NCDC coding: TRUE ('1'), FALSE ('0')\n",
    "sql_statement = \"\"\"SELECT AVG(date_part('year', now()) - birth_year) \n",
    "FROM ncdc WHERE dementia_diagnosis IS TRUE\"\"\"\n",
    "# Alternative: dementia_diagnosis = '1'\n",
    "db_client.execute(sql_statement)\n",
    "result = db_client.fetchone()\n",
    "print(result)"
   ],
   "outputs": [],
   "metadata": {}
  }
 ],
 "metadata": {
  "kernelspec": {
   "display_name": "Python 3 (ipykernel)",
   "language": "python",
   "name": "python3"
  },
  "language_info": {
   "codemirror_mode": {
    "name": "ipython",
    "version": 3
   },
   "file_extension": ".py",
   "mimetype": "text/x-python",
   "name": "python",
   "nbconvert_exporter": "python",
   "pygments_lexer": "ipython3",
   "version": "3.8.5"
  }
 },
 "nbformat": 4,
 "nbformat_minor": 5
}